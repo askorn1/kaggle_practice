{
 "cells": [
  {
   "cell_type": "markdown",
   "metadata": {},
   "source": [
    "\n",
    "# 1. Подготовка данных к анализу и построению моделей"
   ]
  },
  {
   "cell_type": "code",
   "execution_count": 1,
   "metadata": {},
   "outputs": [
    {
     "name": "stderr",
     "output_type": "stream",
     "text": [
      "/home/as/anaconda2/lib/python2.7/site-packages/sklearn/cross_validation.py:44: DeprecationWarning: This module was deprecated in version 0.18 in favor of the model_selection module into which all the refactored classes and functions are moved. Also note that the interface of the new CV iterators are different from that of this module. This module will be removed in 0.20.\n",
      "  \"This module will be removed in 0.20.\", DeprecationWarning)\n"
     ]
    },
    {
     "name": "stdout",
     "output_type": "stream",
     "text": [
      "Populating the interactive namespace from numpy and matplotlib\n"
     ]
    }
   ],
   "source": [
    "from __future__ import division, print_function\n",
    "# отключим всякие предупреждения Anaconda\n",
    "import warnings\n",
    "warnings.filterwarnings('ignore')\n",
    "import numpy as np\n",
    "import pandas as pd\n",
    "\n",
    "from sklearn.model_selection import train_test_split, cross_val_score, KFold, StratifiedKFold\n",
    "from sklearn.metrics import accuracy_score, make_scorer\n",
    "from sklearn.ensemble import RandomForestRegressor, RandomForestClassifier\n",
    "from sklearn.neighbors import KNeighborsRegressor, KNeighborsClassifier\n",
    "import xgboost\n",
    "\n",
    "%pylab inline"
   ]
  },
  {
   "cell_type": "code",
   "execution_count": 2,
   "metadata": {
    "collapsed": true
   },
   "outputs": [],
   "source": [
    "def get_RMSLE(predicted_l, actual_l):\n",
    "    p_ = np.array(predicted_l)\n",
    "    a_ = np.array(actual_l)\n",
    "    ret_val = np.sqrt(np.sum((np.log(p_+1)-np.log(a_+1))**2)/len(p_))\n",
    "    return ret_val\n",
    "\n",
    "def to_log(arr):\n",
    "    arr_ = np.array(arr)\n",
    "    return np.log(arr_+1)\n",
    "\n",
    "def from_log(arr):\n",
    "    arr_ = np.array(arr)\n",
    "    return np.exp(arr_)-1"
   ]
  },
  {
   "cell_type": "code",
   "execution_count": 3,
   "metadata": {
    "collapsed": true
   },
   "outputs": [],
   "source": [
    "root_path = '/home/as/Desktop/machine learning/___kaggle/SberbankRussianHousingMarket'"
   ]
  },
  {
   "cell_type": "code",
   "execution_count": 4,
   "metadata": {
    "collapsed": true
   },
   "outputs": [],
   "source": [
    "train_data = pd.read_csv(root_path+'/data/train.csv', index_col='id')"
   ]
  },
  {
   "cell_type": "markdown",
   "metadata": {},
   "source": [
    "### Макроэкономика"
   ]
  },
  {
   "cell_type": "code",
   "execution_count": 6,
   "metadata": {
    "collapsed": true
   },
   "outputs": [],
   "source": [
    "macro_df = pd.read_csv(root_path+'/data/macro.csv')\n",
    "m_timestamp_col = pd.to_datetime(macro_df['timestamp'])\n",
    "macro_ts_df = pd.DataFrame(index=macro_df.index,columns=['year','month','day'])\n",
    "macro_ts_df['year']  = [x.year  for x in m_timestamp_col]\n",
    "macro_ts_df['month'] = [x.month for x in m_timestamp_col]\n",
    "macro_ts_df['day']   = [x.day   for x in m_timestamp_col]\n",
    "macro_df = pd.concat((macro_df,macro_ts_df),axis=1)"
   ]
  },
  {
   "cell_type": "code",
   "execution_count": 7,
   "metadata": {},
   "outputs": [
    {
     "data": {
      "text/plain": [
       "[<matplotlib.lines.Line2D at 0x7fcd7b2e2bd0>]"
      ]
     },
     "execution_count": 7,
     "metadata": {},
     "output_type": "execute_result"
    },
    {
     "data": {
      "image/png": "[encoded data removed]",
      "text/plain": [
       "<matplotlib.figure.Figure at 0x7fcd7a6d4dd0>"
      ]
     },
     "metadata": {},
     "output_type": "display_data"
    }
   ],
   "source": [
    "plot(macro_df['rent_price_3room_bus'])"
   ]
  },
  {
   "cell_type": "code",
   "execution_count": 8,
   "metadata": {},
   "outputs": [
    {
     "name": "stdout",
     "output_type": "stream",
     "text": [
      "2014 8 36.2054419355\n",
      "2014 9 38.0360033333\n",
      "2014 10 40.8895225806\n",
      "2014 11 46.35799\n",
      "2014 12 56.4569387097\n",
      "10.0989487097 58\n"
     ]
    }
   ],
   "source": [
    "r_avg = []\n",
    "j=0\n",
    "for y_ in np.unique(macro_ts_df['year']):\n",
    "        for m_ in np.unique(macro_ts_df['month'][macro_ts_df['year']==y_]):\n",
    "            r_avg.append(np.mean(macro_df['usdrub'][(macro_df['year']==y_)&(macro_df['month']==m_)]))\n",
    "            j+=1\n",
    "            if j>=56 and j<=60:\n",
    "                print(y_,m_,r_avg[len(r_avg)-1])\n",
    "\n",
    "r_diff = [(r_avg[i+1]-r_avg[i]) for i in range(len(r_avg)-1)]\n",
    "print(max(r_diff),argmax(r_diff))"
   ]
  },
  {
   "cell_type": "code",
   "execution_count": 9,
   "metadata": {},
   "outputs": [
    {
     "data": {
      "text/plain": [
       "[<matplotlib.lines.Line2D at 0x7fcd7a9dcd90>]"
      ]
     },
     "execution_count": 9,
     "metadata": {},
     "output_type": "execute_result"
    },
    {
     "data": {
      "image/png": "[encoded data removed]",
      "text/plain": [
       "<matplotlib.figure.Figure at 0x7fcd7b297290>"
      ]
     },
     "metadata": {},
     "output_type": "display_data"
    }
   ],
   "source": [
    "plot(r_avg)\n",
    "#plot(r_diff)"
   ]
  },
  {
   "cell_type": "code",
   "execution_count": 10,
   "metadata": {
    "collapsed": true
   },
   "outputs": [],
   "source": [
    "def get_usdrub_df(dataset_=train_data):\n",
    "    ret_df = pd.DataFrame(data=0,index=dataset_.index,columns=['usdrub','diff_usdrub'])\n",
    "    \n",
    "    timestamp_col = pd.to_datetime(dataset_['timestamp'])\n",
    "    ds_ts_df = pd.DataFrame(index=dataset_.index,columns=['year','month','day'])\n",
    "    ds_ts_df['year']  = [x.year  for x in timestamp_col]\n",
    "    ds_ts_df['month'] = [x.month for x in timestamp_col]\n",
    "    ds_ts_df['day']   = [x.day   for x in timestamp_col]\n",
    "    \n",
    "    ret_df['usdrub'][(ds_ts_df['year']>=2014) & (ds_ts_df['month']>=11)] = 1\n",
    "    ret_df['usdrub'][(ds_ts_df['year']>=2015)] = 1\n",
    "    \n",
    "    val0_ = np.mean(macro_df['usdrub']\\\n",
    "                    [(macro_ts_df['year']==min(np.unique(macro_ts_df['year']))) & \\\n",
    "                     (macro_ts_df['month']==min(np.unique(macro_ts_df['month'][macro_ts_df['year']==min(np.unique(macro_ts_df['year']))])))]\\\n",
    "                    .dropna())\n",
    "    for y_ in np.unique(macro_ts_df['year']):\n",
    "        for m_ in np.unique(macro_ts_df['month'][macro_ts_df['year']==y_]):\n",
    "            val_ = np.mean(macro_df['usdrub'][(macro_ts_df['year']==y_) & (macro_ts_df['month']==m_)].dropna())\n",
    "            ret_df['diff_usdrub'][(ds_ts_df['year']==y_) & (ds_ts_df['month']==m_)] = val_ - val0_\n",
    "            val0_ = val_\n",
    "            #ret_df['usdrub'][(ds_ts_df['year']==y_) & (ds_ts_df['month']==m_)] = val_\n",
    "            #for d_ in np.unique(macro_ts_df['day'][(macro_ts_df['year']==y_) & (macro_ts_df['month']==m_)]):\n",
    "            #    val_ = float(macro_df['usdrub'][(macro_ts_df['year']==y_) & (macro_ts_df['month']==m_) & (macro_ts_df['day']==d_)])\n",
    "            #    if val_>0:\n",
    "            #        ret_df['usdrub'][(ds_ts_df['year']==y_) & (ds_ts_df['month']==m_) & (ds_ts_df['day']==d_)] = val_\n",
    "    \n",
    "    return ret_df"
   ]
  },
  {
   "cell_type": "code",
   "execution_count": 11,
   "metadata": {
    "collapsed": true
   },
   "outputs": [],
   "source": [
    "usdrub_df = get_usdrub_df()"
   ]
  },
  {
   "cell_type": "code",
   "execution_count": 12,
   "metadata": {},
   "outputs": [
    {
     "data": {
      "text/plain": [
       "[<matplotlib.lines.Line2D at 0x7fcd7a8c12d0>]"
      ]
     },
     "execution_count": 12,
     "metadata": {},
     "output_type": "execute_result"
    },
    {
     "data": {
      "image/png": "[encoded data removed]",
      "text/plain": [
       "<matplotlib.figure.Figure at 0x7fcd7a9eb4d0>"
      ]
     },
     "metadata": {},
     "output_type": "display_data"
    }
   ],
   "source": [
    "plot(usdrub_df['diff_usdrub'])"
   ]
  },
  {
   "cell_type": "code",
   "execution_count": 13,
   "metadata": {
    "collapsed": true
   },
   "outputs": [],
   "source": [
    "def get_macro_df(col_name_list, dataset_=train_data):\n",
    "    timestamp_col = pd.to_datetime(dataset_['timestamp'])\n",
    "    ds_ts_df = pd.DataFrame(index=dataset_.index,columns=['year','month','day'])\n",
    "    ds_ts_df['year']  = [x.year  for x in timestamp_col]\n",
    "    ds_ts_df['month'] = [x.month for x in timestamp_col]\n",
    "    ds_ts_df['day']   = [x.day   for x in timestamp_col]\n",
    "    \n",
    "    print(col_name_list)\n",
    "    ret_df = pd.DataFrame(data=0,index=dataset_.index,columns=col_name_list)\n",
    "    \n",
    "    for col_ in col_name_list:\n",
    "        print(col_)\n",
    "        for y_ in np.unique(macro_ts_df['year']):\n",
    "            for m_ in np.unique(macro_ts_df['month'][macro_ts_df['year']==y_]):\n",
    "                for d_ in np.unique(macro_ts_df['day'][(macro_ts_df['year']==y_) & (macro_ts_df['month']==m_)]):\n",
    "                    val_ = float(macro_df[col_][(macro_ts_df['year']==y_) & (macro_ts_df['month']==m_) & (macro_ts_df['day']==d_)])\n",
    "                    if val_>0:\n",
    "                        ret_df[col_][(ds_ts_df['year']==y_) & (ds_ts_df['month']==m_) & (ds_ts_df['day']==d_)] = val_\n",
    "    \n",
    "    return ret_df"
   ]
  },
  {
   "cell_type": "code",
   "execution_count": 14,
   "metadata": {},
   "outputs": [
    {
     "name": "stdout",
     "output_type": "stream",
     "text": [
      "['eurrub']\n",
      "eurrub\n",
      "CPU times: user 23.2 s, sys: 72 ms, total: 23.2 s\n",
      "Wall time: 23.3 s\n"
     ]
    }
   ],
   "source": [
    "%%time\n",
    "macro_col_list = ['salary','construction_value','housing_fund_sqm','lodging_sqm_per_cap',\n",
    "                  'rent_price_3room_eco','rent_price_3room_bus','apartment_build','apartment_fund_sqm']\n",
    "#other_macro_df = get_macro_df(macro_col_list)\n",
    "other_macro_df = get_macro_df(['eurrub'])"
   ]
  },
  {
   "cell_type": "markdown",
   "metadata": {},
   "source": [
    "### Подготовка данных к подаче в алгоритм:"
   ]
  },
  {
   "cell_type": "markdown",
   "metadata": {},
   "source": [
    "** 1. Отдельно обрабатываем timestamp **"
   ]
  },
  {
   "cell_type": "code",
   "execution_count": 15,
   "metadata": {
    "collapsed": true
   },
   "outputs": [],
   "source": [
    "def process_timestamp(dataset_=train_data):\n",
    "    timestamp_col = pd.to_datetime(dataset_['timestamp'])\n",
    "\n",
    "    ret_df = pd.DataFrame(index=dataset_.index,columns=['year','month'])\n",
    "    ret_df['year'] = [x.year for x in timestamp_col]\n",
    "    ret_df['month'] = [x.month for x in timestamp_col]\n",
    "    #ret_df['day'] = [x.day for x in timestamp_col]\n",
    "    return ret_df"
   ]
  },
  {
   "cell_type": "code",
   "execution_count": 16,
   "metadata": {
    "collapsed": true
   },
   "outputs": [],
   "source": [
    "timestamp_df = process_timestamp()"
   ]
  },
  {
   "cell_type": "markdown",
   "metadata": {},
   "source": [
    "** 2. Остальные признаки по типу **"
   ]
  },
  {
   "cell_type": "code",
   "execution_count": 17,
   "metadata": {
    "collapsed": true
   },
   "outputs": [],
   "source": [
    "object_cols = []\n",
    "int_cols = []\n",
    "float_cols = []"
   ]
  },
  {
   "cell_type": "code",
   "execution_count": 18,
   "metadata": {
    "collapsed": true
   },
   "outputs": [],
   "source": [
    "for col_ in train_data.drop(['timestamp', 'price_doc'],axis=1):\n",
    "    props = ''\n",
    "    if train_data[col_].dtype=='object':\n",
    "        props+=' uq.v:'+str(len(np.unique(train_data[col_].dropna())))\n",
    "        object_cols.append(col_)\n",
    "    else:\n",
    "        props+=' min.v:'+str(np.min(train_data[col_].dropna()))\n",
    "        props+=' max.v:'+str(np.max(train_data[col_].dropna()))\n",
    "        props+=' avg.v:'+str(np.mean(train_data[col_].dropna()))\n",
    "        props+=' uq.v:'+str(len(np.unique(train_data[col_].dropna())))\n",
    "        if train_data[col_].dtype=='int64':\n",
    "            int_cols.append(col_)\n",
    "        else:\n",
    "            float_cols.append(col_)\n",
    "    #print(col_+' ('+str(train_data[col_].dtype)+') '+props)"
   ]
  },
  {
   "cell_type": "markdown",
   "metadata": {},
   "source": [
    "#2.1 <b>object</b> - категориальные"
   ]
  },
  {
   "cell_type": "code",
   "execution_count": 19,
   "metadata": {
    "collapsed": true
   },
   "outputs": [],
   "source": [
    "def encode_obj_features(dataset_=train_data):\n",
    "    ret_df = pd.DataFrame(data=0, columns=object_cols, index=dataset_.index)\n",
    "    for col_ in object_cols:\n",
    "        k = 1\n",
    "        for cat_ in np.unique(dataset_[col_].dropna()):\n",
    "            ret_df[col_][dataset_[col_]==cat_] = k\n",
    "            k += 1\n",
    "    \n",
    "    return ret_df"
   ]
  },
  {
   "cell_type": "code",
   "execution_count": 20,
   "metadata": {
    "collapsed": true
   },
   "outputs": [],
   "source": [
    "obj_df = encode_obj_features()"
   ]
  },
  {
   "cell_type": "markdown",
   "metadata": {},
   "source": [
    "#2.2 <b>int64</b> - целочисленные"
   ]
  },
  {
   "cell_type": "code",
   "execution_count": 21,
   "metadata": {
    "collapsed": true
   },
   "outputs": [],
   "source": [
    "#параметры того или иного района города\n",
    "int_cols_raion = ['raion_popul','children_preschool','preschool_education_centers_raion',\n",
    "                  'children_school','school_education_centers_raion',\n",
    "                  'school_education_centers_top_20_raion','healthcare_centers_raion','university_top_20_raion',\n",
    "                  'sport_objects_raion','additional_education_raion','culture_objects_top_25_raion',\n",
    "                  'shopping_centers_raion','office_raion','full_all','male_f','female_f','young_all','young_male',\n",
    "                  'young_female','work_all','work_male','work_female','ekder_all','ekder_male',\n",
    "                  'ekder_female','0_6_all','0_6_male','0_6_female','7_14_all','7_14_male',\n",
    "                  '7_14_female','0_17_all','0_17_male','0_17_female','16_29_all','16_29_male',\n",
    "                  '16_29_female','0_13_all','0_13_male','0_13_female']\n",
    "\n",
    "#категориальные признаки\n",
    "int_cols_category = ['ID_metro','ID_railroad_station_avto','ID_big_road1','ID_big_road2',\n",
    "                     'ID_railroad_terminal','ID_bus_terminal']\n",
    "\n",
    "#прочие признаки\n",
    "int_cols_other = [x for x in int_cols if x not in int_cols_raion and x not in int_cols_category]"
   ]
  },
  {
   "cell_type": "code",
   "execution_count": 22,
   "metadata": {
    "collapsed": true
   },
   "outputs": [],
   "source": [
    "#категориальные признаки закодируем аналогично признакам типа object выше\n",
    "def encode_int_features(dataset_=train_data):\n",
    "    ret_df = pd.DataFrame(data=0, columns=int_cols_category, index=dataset_.index)\n",
    "    for col_ in int_cols_category:\n",
    "        k = 1\n",
    "        for cat_ in np.unique(dataset_[col_].dropna()):\n",
    "            ret_df[col_][dataset_[col_]==cat_] = k\n",
    "            k += 1\n",
    "    \n",
    "    return ret_df"
   ]
  },
  {
   "cell_type": "code",
   "execution_count": 23,
   "metadata": {
    "collapsed": true
   },
   "outputs": [],
   "source": [
    "int_cat_df = encode_int_features()"
   ]
  },
  {
   "cell_type": "code",
   "execution_count": 24,
   "metadata": {
    "collapsed": true
   },
   "outputs": [],
   "source": [
    "p_i = 0.47\n",
    "\n",
    "min_fsq = np.percentile(train_data['full_sq'],p_i)\n",
    "max_fsq = np.percentile(train_data['full_sq'],100-p_i)\n",
    "\n",
    "#нормализация. выбросы считаем за ошибку\n",
    "\n",
    "def full_sq_scale(dataset_=train_data):\n",
    "    ret_df = pd.DataFrame(data=0, columns=['full_sq_norm'],index=dataset_.index)\n",
    "    ret_df['full_sq_norm'][(dataset_['full_sq']>=min_fsq) & (dataset_['full_sq']<=max_fsq)] = dataset_['full_sq']\n",
    "    #id=24299 - включить ли?\n",
    "    return ret_df"
   ]
  },
  {
   "cell_type": "code",
   "execution_count": 25,
   "metadata": {},
   "outputs": [
    {
     "name": "stdout",
     "output_type": "stream",
     "text": [
      "20.0\n",
      "156.0\n"
     ]
    }
   ],
   "source": [
    "print(np.percentile(train_data['full_sq'],0.47))\n",
    "print(np.percentile(train_data['full_sq'],100-0.47))"
   ]
  },
  {
   "cell_type": "code",
   "execution_count": 26,
   "metadata": {
    "collapsed": true
   },
   "outputs": [],
   "source": [
    "full_sq_df = full_sq_scale()"
   ]
  },
  {
   "cell_type": "code",
   "execution_count": 27,
   "metadata": {},
   "outputs": [
    {
     "data": {
      "text/plain": [
       "30187"
      ]
     },
     "execution_count": 27,
     "metadata": {},
     "output_type": "execute_result"
    }
   ],
   "source": [
    "len(full_sq_df[full_sq_df['full_sq_norm']>0])"
   ]
  },
  {
   "cell_type": "code",
   "execution_count": 28,
   "metadata": {
    "collapsed": true
   },
   "outputs": [],
   "source": [
    "def do_scale(col_, dataset_=train_data):\n",
    "    ret_df = pd.DataFrame(data=0, index=dataset_.index,columns=[col_+'_norm'])\n",
    "    ret_df[col_+'_norm'][dataset_[col_]>0] = dataset_[col_]\n",
    "\n",
    "    return ret_df"
   ]
  },
  {
   "cell_type": "code",
   "execution_count": 29,
   "metadata": {
    "collapsed": true
   },
   "outputs": [],
   "source": [
    "def int_col_scale(dataset_=train_data):\n",
    "    ret_int_col_norm_df = pd.DataFrame(index=dataset_.index)\n",
    "    for col_ in int_cols_other[1:]: #excluding full_sq\n",
    "        ret_int_col_norm_df = pd.concat((ret_int_col_norm_df,do_scale(col_,dataset_)),axis=1)\n",
    "    return ret_int_col_norm_df"
   ]
  },
  {
   "cell_type": "code",
   "execution_count": 30,
   "metadata": {
    "collapsed": true
   },
   "outputs": [],
   "source": [
    "int_col_df = int_col_scale()"
   ]
  },
  {
   "cell_type": "markdown",
   "metadata": {},
   "source": [
    "#2.3 <b>float64</b> - с плавающей точкой"
   ]
  },
  {
   "cell_type": "code",
   "execution_count": 31,
   "metadata": {
    "collapsed": true
   },
   "outputs": [],
   "source": [
    "#параметры того или иного района города\n",
    "float_cols_raion = ['area_m','green_zone_part','indust_part','preschool_quota','school_quota',\n",
    "                    'hospital_beds_raion','raion_build_count_with_material_info',\n",
    "                    'build_count_block','build_count_wood','build_count_frame',\n",
    "                    'build_count_brick','build_count_monolith','build_count_panel',\n",
    "                    'build_count_foam','build_count_slag','build_count_mix',\n",
    "                    'raion_build_count_with_builddate_info','build_count_before_1920',\n",
    "                    'build_count_1921-1945','build_count_1946-1970','build_count_1971-1995',\n",
    "                    'build_count_after_1995']"
   ]
  },
  {
   "cell_type": "code",
   "execution_count": 32,
   "metadata": {
    "collapsed": true
   },
   "outputs": [],
   "source": [
    "#категориальные\n",
    "float_cols_category = ['material','state','ID_railroad_station_walk']\n",
    "\n",
    "def encode_float_features(dataset_=train_data):\n",
    "    ret_df = pd.DataFrame(data=0, columns=float_cols_category, index=dataset_.index)\n",
    "    for col_ in float_cols_category:\n",
    "        k = 1\n",
    "        for cat_ in np.unique(dataset_[col_].dropna()):\n",
    "            ret_df[col_][dataset_[col_]==cat_] = k\n",
    "            k += 1\n",
    "    \n",
    "    return ret_df"
   ]
  },
  {
   "cell_type": "code",
   "execution_count": 33,
   "metadata": {
    "collapsed": true
   },
   "outputs": [],
   "source": [
    "float_cat_df = encode_float_features()"
   ]
  },
  {
   "cell_type": "code",
   "execution_count": 34,
   "metadata": {
    "collapsed": true
   },
   "outputs": [],
   "source": [
    "min_lfr = 0.1\n",
    "max_lfr = 0.9\n",
    "\n",
    "def life_sq_scale(dataset_=train_data):\n",
    "    ret_df = pd.DataFrame(data=0, columns=['life_sq_ratio'],index=dataset_.index)\n",
    "    ret_df['life_sq_ratio'][(dataset_['full_sq']>0) & (dataset_['life_sq']/dataset_['full_sq']>=min_lfr) &\\\n",
    "                            (dataset_['life_sq']/dataset_['full_sq']<=max_lfr)] = np.round(dataset_['life_sq']/dataset_['full_sq'],2)\n",
    "    \n",
    "    return ret_df"
   ]
  },
  {
   "cell_type": "code",
   "execution_count": 35,
   "metadata": {
    "collapsed": true
   },
   "outputs": [],
   "source": [
    "life_sq_df = life_sq_scale()"
   ]
  },
  {
   "cell_type": "code",
   "execution_count": 36,
   "metadata": {
    "collapsed": true
   },
   "outputs": [],
   "source": [
    "def get_floor_ratio(dataset_=train_data):\n",
    "    ret_df = pd.DataFrame(data=0, columns=['floor_ratio'],\n",
    "                          index=dataset_.index)\n",
    "    \n",
    "    ret_df['floor_ratio'][dataset_['floor']==1] = 1\n",
    "    ret_df['floor_ratio'][dataset_['floor']>1] = 2\n",
    "    ret_df['floor_ratio'][dataset_['floor']==dataset_['max_floor']] = 3\n",
    "                    \n",
    "    return ret_df"
   ]
  },
  {
   "cell_type": "code",
   "execution_count": 37,
   "metadata": {
    "collapsed": true
   },
   "outputs": [],
   "source": [
    "floor_df = get_floor_ratio()"
   ]
  },
  {
   "cell_type": "code",
   "execution_count": 38,
   "metadata": {
    "collapsed": true
   },
   "outputs": [],
   "source": [
    "min_by = 1860\n",
    "max_by = 2018\n",
    "\n",
    "def build_year_scale(dataset_=train_data):\n",
    "    ret_df = pd.DataFrame(data=0,columns=['build_year_norm'],index=dataset_.index) \n",
    "    ret_df['build_year_norm'][(dataset_['build_year']>=min_by) & (dataset_['build_year']<=max_by)] = dataset_['build_year']\n",
    "    \n",
    "    return ret_df"
   ]
  },
  {
   "cell_type": "code",
   "execution_count": 39,
   "metadata": {
    "collapsed": true
   },
   "outputs": [],
   "source": [
    "build_year_df = build_year_scale()"
   ]
  },
  {
   "cell_type": "code",
   "execution_count": 40,
   "metadata": {
    "collapsed": true
   },
   "outputs": [],
   "source": [
    "min_nr = 1\n",
    "max_nr = 4\n",
    "\n",
    "def num_room_scale(dataset_=train_data):\n",
    "    ret_df = pd.DataFrame(data=0,columns=['num_room_norm'],index=dataset_.index)\n",
    "    ret_df['num_room_norm'][(dataset_['num_room']>=min_nr) & (dataset_['num_room']<=max_nr)] = dataset_['num_room']\n",
    "    \n",
    "    return ret_df"
   ]
  },
  {
   "cell_type": "code",
   "execution_count": 41,
   "metadata": {
    "collapsed": true
   },
   "outputs": [],
   "source": [
    "num_room_df = num_room_scale()"
   ]
  },
  {
   "cell_type": "code",
   "execution_count": 42,
   "metadata": {
    "collapsed": true
   },
   "outputs": [],
   "source": [
    "min_kfr = 0.1\n",
    "max_kfr = 0.4\n",
    "\n",
    "def kitch_sq_scale(dataset_=train_data):\n",
    "    ret_df = pd.DataFrame(data=0, columns=['kitch_sq_ratio'],index=dataset_.index)\n",
    "    ret_df['kitch_sq_ratio'][(dataset_['full_sq']>0) & (dataset_['kitch_sq']/dataset_['full_sq']>=min_kfr) &\\\n",
    "                            (dataset_['kitch_sq']/dataset_['full_sq']<=max_kfr)] = np.round(dataset_['kitch_sq']/dataset_['full_sq'],1)\n",
    "    \n",
    "    return ret_df"
   ]
  },
  {
   "cell_type": "code",
   "execution_count": 43,
   "metadata": {
    "collapsed": true
   },
   "outputs": [],
   "source": [
    "kitch_sq_df = kitch_sq_scale()"
   ]
  },
  {
   "cell_type": "code",
   "execution_count": 44,
   "metadata": {
    "collapsed": true
   },
   "outputs": [],
   "source": [
    "float_cols_apt = ['life_sq','floor','max_floor','build_year','num_room','kitch_sq']"
   ]
  },
  {
   "cell_type": "code",
   "execution_count": 45,
   "metadata": {
    "collapsed": true
   },
   "outputs": [],
   "source": [
    "def get_walk_df(dataset_=train_data):\n",
    "    ret_df = pd.DataFrame(data=0, columns=['walk_metro','walk_RR','walk_PT'],index=dataset_.index)\n",
    "    \n",
    "    ret_df['walk_metro'][(dataset_['metro_min_walk']>0) & (dataset_['metro_min_walk']<=5)] = 1\n",
    "    ret_df['walk_metro'][(dataset_['metro_min_walk']>5) & (dataset_['metro_min_walk']<=10)] = 2\n",
    "    ret_df['walk_metro'][dataset_['metro_min_walk']>10] = 3\n",
    "    \n",
    "    ret_df['walk_RR'][(dataset_['railroad_station_walk_min']>0) & (dataset_['railroad_station_walk_min']<=5)] = 1\n",
    "    ret_df['walk_RR'][(dataset_['railroad_station_walk_min']>5) & (dataset_['railroad_station_walk_min']<=10)] = 2\n",
    "    ret_df['walk_RR'][dataset_['railroad_station_walk_min']>10] = 3\n",
    "    \n",
    "    ret_df['walk_PT'][(dataset_['public_transport_station_min_walk']>0) & (dataset_['public_transport_station_min_walk']<=5)] = 1\n",
    "    ret_df['walk_PT'][(dataset_['public_transport_station_min_walk']>5) & (dataset_['public_transport_station_min_walk']<=10)] = 2\n",
    "    ret_df['walk_PT'][dataset_['public_transport_station_min_walk']>10] = 3\n",
    "    \n",
    "    return ret_df"
   ]
  },
  {
   "cell_type": "code",
   "execution_count": 46,
   "metadata": {
    "collapsed": true
   },
   "outputs": [],
   "source": [
    "walk_df = get_walk_df()"
   ]
  },
  {
   "cell_type": "code",
   "execution_count": 47,
   "metadata": {
    "collapsed": true
   },
   "outputs": [],
   "source": [
    "#параметры окружения - если даны расстояния и в км, и в минутах, оставим только км\n",
    "float_cols_time_dist = ['metro_min_avto','metro_min_walk','railroad_station_walk_min',\n",
    "                        'railroad_station_avto_min','public_transport_station_min_walk']\n",
    "#параметры окружения (только км, см.выше)\n",
    "float_cols_neibh = [x for x in float_cols if x not in append(float_cols_raion,append(float_cols_category,append(float_cols_apt,float_cols_time_dist)))]"
   ]
  },
  {
   "cell_type": "code",
   "execution_count": 48,
   "metadata": {
    "collapsed": true
   },
   "outputs": [],
   "source": [
    "def float_round_05(col_, dataset_=train_data):\n",
    "    ret_df = pd.DataFrame(data=0.0, index=dataset_.index,columns=[col_+'_norm'])\n",
    "    for i in dataset_[col_][dataset_[col_]>0].index:\n",
    "        k = dataset_[col_][i]\n",
    "        d = k-np.round(k,0)\n",
    "        ret_df[col_+'_norm'][i] = np.round(k,0)+0.5*np.sign(d)*int(np.abs(d)>0.25)\n",
    "        \n",
    "    return ret_df"
   ]
  },
  {
   "cell_type": "code",
   "execution_count": 49,
   "metadata": {
    "collapsed": true
   },
   "outputs": [],
   "source": [
    "def float_round(col_,dataset_=train_data):\n",
    "    ret_df = pd.DataFrame(data=0.0, index=dataset_.index,columns=[col_+'_norm'])\n",
    "    ret_df[col_+'_norm'][dataset_[col_]>0] = np.round(dataset_[col_],3)\n",
    "        \n",
    "    return ret_df"
   ]
  },
  {
   "cell_type": "code",
   "execution_count": 50,
   "metadata": {
    "collapsed": true
   },
   "outputs": [],
   "source": [
    "def other_float_cols_scale(dataset_=train_data):\n",
    "    ret_df = pd.DataFrame(index=dataset_.index)\n",
    "    for col_ in float_cols_neibh:\n",
    "        if '_km' in col_:\n",
    "            ret_df = pd.concat((ret_df,float_round(col_,dataset_=dataset_)),axis=1)\n",
    "        else:\n",
    "            ret_df = pd.concat((ret_df,float_round(col_,dataset_=dataset_)),axis=1)\n",
    "\n",
    "    return ret_df"
   ]
  },
  {
   "cell_type": "code",
   "execution_count": 51,
   "metadata": {},
   "outputs": [
    {
     "name": "stdout",
     "output_type": "stream",
     "text": [
      "CPU times: user 1.1 s, sys: 28 ms, total: 1.12 s\n",
      "Wall time: 1.14 s\n"
     ]
    }
   ],
   "source": [
    "%%time\n",
    "float_col_df = other_float_cols_scale()"
   ]
  },
  {
   "cell_type": "markdown",
   "metadata": {},
   "source": [
    "**Дополнительные правки:**"
   ]
  },
  {
   "cell_type": "code",
   "execution_count": 52,
   "metadata": {
    "collapsed": true
   },
   "outputs": [],
   "source": [
    "#убрать выбросы по цене 1 кв.м\n",
    "per_sqm_df = pd.DataFrame(data=0,index=train_data.index,columns=['rub_per_sqm'])\n",
    "per_sqm_df['rub_per_sqm'][(train_data['full_sq']>0)] = train_data['price_doc']/train_data['full_sq']"
   ]
  },
  {
   "cell_type": "code",
   "execution_count": 53,
   "metadata": {},
   "outputs": [
    {
     "name": "stdout",
     "output_type": "stream",
     "text": [
      "to exclude (abnormal sqm price+zero sqm): 998 rows\n"
     ]
    }
   ],
   "source": [
    "#0.32424: 25000 - 800000\n",
    "\n",
    "sqm_price_low = 27500\n",
    "sqm_price_high = 700000\n",
    "\n",
    "to_exclude_indices_l = []\n",
    "\n",
    "for i in train_data.index:\n",
    "    if train_data['full_sq'][i]>0:\n",
    "        val_ = train_data['price_doc'][i]/train_data['full_sq'][i]\n",
    "        if val_>sqm_price_low and val_<sqm_price_high:\n",
    "            pass\n",
    "        else:\n",
    "            to_exclude_indices_l.append(i)\n",
    "    else:\n",
    "        to_exclude_indices_l.append(i)\n",
    "\n",
    "print('to exclude (abnormal sqm price+zero sqm): '+str(len(to_exclude_indices_l))+' rows')"
   ]
  },
  {
   "cell_type": "markdown",
   "metadata": {},
   "source": [
    "### Cборка матрицы признаков"
   ]
  },
  {
   "cell_type": "code",
   "execution_count": 54,
   "metadata": {},
   "outputs": [
    {
     "name": "stdout",
     "output_type": "stream",
     "text": [
      "added 108 \t columns ( int_col_df \t)\n",
      "added 6 \t columns ( int_cat_df \t)\n",
      "added 3 \t columns ( float_cat_df \t)\n",
      "added 1 \t columns ( life_sq_df \t)\n",
      "added 1 \t columns ( floor_df \t)\n",
      "added 1 \t columns ( build_year_df \t)\n",
      "added 1 \t columns ( num_room_df \t)\n",
      "added 1 \t columns ( kitch_sq_df \t)\n",
      "added 3 \t columns ( walk_df \t)\n",
      "added 83 \t columns ( float_col_df \t)\n",
      "added 2 \t columns ( usdrub_df \t)\n",
      "added 1 \t columns ( other_macro_df \t)\n",
      "all data: (30471, 227)\n",
      "no n/a-s: (30471, 227)\n",
      "CPU times: user 408 ms, sys: 132 ms, total: 540 ms\n",
      "Wall time: 530 ms\n"
     ]
    }
   ],
   "source": [
    "%%time\n",
    "\n",
    "def col_info(namecol, df_):\n",
    "    print('added',df_.shape[1],'\\t columns (',namecol,'\\t)')\n",
    "    return\n",
    "\n",
    "#0.32791 - исключена только kitch_sq_df\n",
    "\n",
    "#train_data2 = pd.concat((timestamp_df, obj_df),axis=1)\n",
    "#col_info('timestamp_df',timestamp_df)\n",
    "#col_info('obj_df',obj_df)\n",
    "#train_data2 = pd.concat((train_data2, full_sq_df),   axis=1)\n",
    "#col_info('full_sq_df',full_sq_df)\n",
    "\n",
    "train_data2 = pd.concat((obj_df, full_sq_df),        axis=1)\n",
    "\n",
    "train_data2 = pd.concat((train_data2, int_col_df),   axis=1)\n",
    "col_info('int_col_df',int_col_df)\n",
    "train_data2 = pd.concat((train_data2, int_cat_df),   axis=1)\n",
    "col_info('int_cat_df',int_cat_df)\n",
    "train_data2 = pd.concat((train_data2, float_cat_df), axis=1)\n",
    "col_info('float_cat_df',float_cat_df)\n",
    "train_data2 = pd.concat((train_data2, life_sq_df),   axis=1)\n",
    "col_info('life_sq_df',life_sq_df)\n",
    "train_data2 = pd.concat((train_data2, floor_df),     axis=1)\n",
    "col_info('floor_df',floor_df)\n",
    "train_data2 = pd.concat((train_data2, build_year_df),axis=1)\n",
    "col_info('build_year_df',build_year_df)\n",
    "train_data2 = pd.concat((train_data2, num_room_df),  axis=1)\n",
    "col_info('num_room_df',num_room_df)\n",
    "train_data2 = pd.concat((train_data2, kitch_sq_df),  axis=1)\n",
    "col_info('kitch_sq_df',kitch_sq_df)\n",
    "train_data2 = pd.concat((train_data2, walk_df), axis=1)\n",
    "col_info('walk_df',walk_df)\n",
    "train_data2 = pd.concat((train_data2, float_col_df), axis=1)\n",
    "col_info('float_col_df',float_col_df)\n",
    "\n",
    "train_data2 = pd.concat((train_data2, usdrub_df), axis=1)\n",
    "col_info('usdrub_df',usdrub_df)\n",
    "\n",
    "train_data2 = pd.concat((train_data2, other_macro_df), axis=1)\n",
    "col_info('other_macro_df',other_macro_df)\n",
    "\n",
    "print('all data:', train_data2.shape)\n",
    "print('no n/a-s:', train_data2.dropna().shape)"
   ]
  },
  {
   "cell_type": "code",
   "execution_count": 55,
   "metadata": {},
   "outputs": [
    {
     "name": "stdout",
     "output_type": "stream",
     "text": [
      "mean price given: 7123035.27774\n",
      "(29473, 227)\n",
      "mean price given after dropout (if any): 7313010.20415\n"
     ]
    }
   ],
   "source": [
    "#убираем из обучающей выборки позиции с явным выбросом по цене 1 кв.м\n",
    "print('mean price given:',np.mean(train_data['price_doc']))\n",
    "train_data2.drop(to_exclude_indices_l, axis=0,inplace=True)\n",
    "print(train_data2.shape)\n",
    "print('mean price given after dropout (if any):',np.mean(train_data['price_doc'][train_data2.index]))"
   ]
  },
  {
   "cell_type": "markdown",
   "metadata": {},
   "source": [
    "## 2. Тестовый запуск"
   ]
  },
  {
   "cell_type": "code",
   "execution_count": 56,
   "metadata": {},
   "outputs": [
    {
     "name": "stdout",
     "output_type": "stream",
     "text": [
      "Random forest - RMSLE score: 0.36044441872 , oob_score: 0.655231134866\n",
      "XGBoost - RMSLE score: 0.326515055892\n",
      "kNN - RMSLE score: 0.427090738443\n",
      "\n",
      "done\n"
     ]
    }
   ],
   "source": [
    "X_data = np.array(train_data2)\n",
    "y_data = np.array([train_data['price_doc'][i] for i in train_data2.index])\n",
    "\n",
    "X_train, X_validation, y_train, y_validation = train_test_split(X_data, y_data, test_size=0.3, random_state=7)\n",
    "#kfold = KFold(n_splits=10, random_state=7)\n",
    "#def rmsle2(y,y_pred):\n",
    "#    return get_RMSLE(y_pred,y)\n",
    "#rmsle_sc = make_scorer(rmsle2,greater_is_better=False)\n",
    "\n",
    "#случайный лес\n",
    "rf = RandomForestRegressor(n_estimators=200, min_samples_leaf=3, max_depth=5, n_jobs=4, \n",
    "                           max_features=0.7, bootstrap=True, oob_score=True)\n",
    "rf.fit(X_data,y_data)\n",
    "y_rf_predictions = rf.predict(X_validation)\n",
    "print('Random forest - RMSLE score:',get_RMSLE(y_rf_predictions,y_validation),', oob_score:',rf.oob_score_)\n",
    "\n",
    "#градиентный бустинг\n",
    "#xgb_r = xgboost.XGBRegressor(n_estimators=250, max_depth=5, learning_rate=0.03,\n",
    "#                             subsample=0.9, colsample_bytree=0.7, min_child_weight=5)\n",
    "xgb_r = xgboost.XGBRegressor(n_estimators=250, max_depth=5, learning_rate=0.03,\n",
    "                             subsample=0.9, colsample_bytree=0.7, min_child_weight=5)\n",
    "y_train_log = to_log(y_train)\n",
    "xgb_r.fit(X_train,y_train_log)\n",
    "y_xgb_predictions = from_log(xgb_r.predict(X_validation))\n",
    "print('XGBoost - RMSLE score:',get_RMSLE(y_xgb_predictions,y_validation))\n",
    "    \n",
    "xgb_r.fit(X_data,to_log(y_data))\n",
    "\n",
    "#kNN\n",
    "knn_r = KNeighborsRegressor(n_neighbors=7, weights='uniform', metric='minkowski', p=2, n_jobs=4)\n",
    "knn_r.fit(X_train,y_train)\n",
    "y_knn_predictions = knn_r.predict(X_validation)\n",
    "print('kNN - RMSLE score:',get_RMSLE(y_knn_predictions,y_validation))\n",
    "\n",
    "print(\"\\ndone\")\n",
    "\n",
    "#0.32791:\n",
    "#Random forest - RMSLE score: 0.398883145845 , oob_score: 0.624356113066\n",
    "#XGBoost - RMSLE score: 0.371364169884\n",
    "#kNN - RMSLE score: 0.466921467547"
   ]
  },
  {
   "cell_type": "code",
   "execution_count": 57,
   "metadata": {
    "collapsed": true
   },
   "outputs": [],
   "source": [
    "from catboost import CatBoostRegressor"
   ]
  },
  {
   "cell_type": "code",
   "execution_count": 59,
   "metadata": {},
   "outputs": [
    {
     "name": "stdout",
     "output_type": "stream",
     "text": [
      "CatBoost - RMSLE score: 0.328317781295\n"
     ]
    }
   ],
   "source": [
    "cb_r = CatBoostRegressor(depth=5)\n",
    "cb_r.fit(X_train,y_train_log)\n",
    "y_cb_predictions = from_log(cb_r.predict(X_validation))\n",
    "print('CatBoost - RMSLE score:',get_RMSLE(y_cb_predictions,y_validation))"
   ]
  },
  {
   "cell_type": "markdown",
   "metadata": {},
   "source": [
    "**Для обработки тестовой выборки используем регрессор:**"
   ]
  },
  {
   "cell_type": "code",
   "execution_count": 56,
   "metadata": {
    "collapsed": true
   },
   "outputs": [],
   "source": [
    "best_regressor = xgb_r"
   ]
  },
  {
   "cell_type": "markdown",
   "metadata": {},
   "source": [
    "## 3. Прогноз"
   ]
  },
  {
   "cell_type": "markdown",
   "metadata": {},
   "source": [
    "**Обработка тестовой выборки и подготовка матрицы признаков:**"
   ]
  },
  {
   "cell_type": "code",
   "execution_count": 57,
   "metadata": {
    "collapsed": true
   },
   "outputs": [],
   "source": [
    "test_data = pd.read_csv(root_path+'/data/test.csv', index_col='id')"
   ]
  },
  {
   "cell_type": "code",
   "execution_count": 58,
   "metadata": {},
   "outputs": [
    {
     "name": "stdout",
     "output_type": "stream",
     "text": [
      "['eurrub']\n",
      "eurrub\n"
     ]
    }
   ],
   "source": [
    "test_timestamp_df  = process_timestamp(test_data)\n",
    "test_obj_df        = encode_obj_features(test_data)\n",
    "test_int_cat_df    = encode_int_features(test_data)\n",
    "test_full_sq_df    = full_sq_scale(test_data)\n",
    "test_int_col_df    = int_col_scale(test_data)\n",
    "test_float_cat_df  = encode_float_features(test_data)\n",
    "test_life_sq_df    = life_sq_scale(test_data)\n",
    "test_floor_df      = get_floor_ratio(test_data)\n",
    "test_build_year_df = build_year_scale(test_data)\n",
    "test_num_room_df   = num_room_scale(test_data)\n",
    "test_kitch_sq_df   = kitch_sq_scale(test_data)\n",
    "test_walk_df       = get_walk_df(test_data)\n",
    "test_float_col_df  = other_float_cols_scale(test_data)\n",
    "test_usdrub_df     = get_usdrub_df(test_data)\n",
    "test_macro_df      = get_macro_df(['eurrub'],test_data)"
   ]
  },
  {
   "cell_type": "code",
   "execution_count": 59,
   "metadata": {
    "collapsed": true
   },
   "outputs": [],
   "source": [
    "#test_data2 = pd.concat((test_timestamp_df, test_obj_df),axis=1)\n",
    "\n",
    "test_data2 = pd.concat((test_obj_df, test_full_sq_df),  axis=1)\n",
    "\n",
    "#test_data2 = pd.concat((test_data2, test_full_sq_df),   axis=1)\n",
    "test_data2 = pd.concat((test_data2, test_int_col_df),   axis=1)\n",
    "test_data2 = pd.concat((test_data2, test_int_cat_df),   axis=1)\n",
    "test_data2 = pd.concat((test_data2, test_float_cat_df), axis=1)\n",
    "test_data2 = pd.concat((test_data2, test_life_sq_df),   axis=1)\n",
    "test_data2 = pd.concat((test_data2, test_floor_df),     axis=1)\n",
    "test_data2 = pd.concat((test_data2, test_build_year_df),axis=1)\n",
    "test_data2 = pd.concat((test_data2, test_num_room_df),  axis=1)\n",
    "test_data2 = pd.concat((test_data2, test_kitch_sq_df),  axis=1)\n",
    "test_data2 = pd.concat((test_data2, test_walk_df),      axis=1)\n",
    "test_data2 = pd.concat((test_data2, test_float_col_df), axis=1)\n",
    "test_data2 = pd.concat((test_data2, test_usdrub_df),    axis=1)\n",
    "test_data2 = pd.concat((test_data2, test_macro_df),     axis=1)"
   ]
  },
  {
   "cell_type": "code",
   "execution_count": 60,
   "metadata": {
    "collapsed": true
   },
   "outputs": [],
   "source": [
    "X_test_data = np.array(test_data2)"
   ]
  },
  {
   "cell_type": "markdown",
   "metadata": {},
   "source": [
    "**Классификация и прогноз**"
   ]
  },
  {
   "cell_type": "code",
   "execution_count": 61,
   "metadata": {},
   "outputs": [
    {
     "name": "stdout",
     "output_type": "stream",
     "text": [
      "CPU times: user 184 ms, sys: 36 ms, total: 220 ms\n",
      "Wall time: 78.4 ms\n"
     ]
    }
   ],
   "source": [
    "%%time\n",
    "if best_regressor == xgb_r:\n",
    "    y_test_predictions = from_log(best_regressor.predict(X_test_data)) #using xgboost - convert from log\n",
    "else:\n",
    "    y_test_predictions = best_regressor.predict(X_test_data)"
   ]
  },
  {
   "cell_type": "markdown",
   "metadata": {},
   "source": [
    "Формирование выходного файла для kaggle"
   ]
  },
  {
   "cell_type": "code",
   "execution_count": 62,
   "metadata": {
    "collapsed": true
   },
   "outputs": [],
   "source": [
    "subm_df = pd.DataFrame(data=y_test_predictions,index=test_data.index,columns=['price_doc'])\n",
    "subm_df.to_csv(root_path+'/data/_submission.csv')"
   ]
  },
  {
   "cell_type": "code",
   "execution_count": 63,
   "metadata": {
    "collapsed": true
   },
   "outputs": [],
   "source": [
    "per_sqm_df1 = pd.DataFrame(index=test_data.index,columns=['rub_per_sqm'])\n",
    "for i in test_data[test_data['full_sq']>0].index:\n",
    "    per_sqm_df1['rub_per_sqm'][i] = subm_df['price_doc'][i]/test_data['full_sq'][i]"
   ]
  },
  {
   "cell_type": "code",
   "execution_count": 64,
   "metadata": {},
   "outputs": [
    {
     "data": {
      "text/plain": [
       "<matplotlib.axes._subplots.AxesSubplot at 0xa35cc90c>"
      ]
     },
     "execution_count": 64,
     "metadata": {},
     "output_type": "execute_result"
    },
    {
     "data": {
      "image/png": "[encoded data removed]",
      "text/plain": [
       "<matplotlib.figure.Figure at 0xa393df4c>"
      ]
     },
     "metadata": {},
     "output_type": "display_data"
    }
   ],
   "source": [
    "per_sqm_df['rub_per_sqm'][per_sqm_df['rub_per_sqm']<800000].hist(figsize=(18,8), normed=True, bins=200)\n",
    "per_sqm_df1['rub_per_sqm'][per_sqm_df1['rub_per_sqm']<800000].hist(figsize=(18,8), normed=True, alpha=0.7, bins=200)"
   ]
  },
  {
   "cell_type": "code",
   "execution_count": 65,
   "metadata": {},
   "outputs": [
    {
     "name": "stdout",
     "output_type": "stream",
     "text": [
      "mean price test: 7479643.48108\n"
     ]
    }
   ],
   "source": [
    "print('mean price test:',np.mean(subm_df['price_doc']))\n",
    "#mean price test: 7318207.51553 - 0.32791"
   ]
  },
  {
   "cell_type": "code",
   "execution_count": null,
   "metadata": {
    "collapsed": true
   },
   "outputs": [],
   "source": []
  }
 ],
 "metadata": {
  "kernelspec": {
   "display_name": "Python 2",
   "language": "python",
   "name": "python2"
  },
  "language_info": {
   "codemirror_mode": {
    "name": "ipython",
    "version": 2
   },
   "file_extension": ".py",
   "mimetype": "text/x-python",
   "name": "python",
   "nbconvert_exporter": "python",
   "pygments_lexer": "ipython2",
   "version": "2.7.13"
  }
 },
 "nbformat": 4,
 "nbformat_minor": 1
}
